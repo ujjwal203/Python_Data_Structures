{
  "nbformat": 4,
  "nbformat_minor": 0,
  "metadata": {
    "colab": {
      "provenance": []
    },
    "kernelspec": {
      "name": "python3",
      "display_name": "Python 3"
    },
    "language_info": {
      "name": "python"
    }
  },
  "cells": [
    {
      "cell_type": "markdown",
      "source": [
        "# Data Types and Structures Questions"
      ],
      "metadata": {
        "id": "f1NT2v8-cpIk"
      }
    },
    {
      "cell_type": "markdown",
      "source": [
        "1) **What are data structures, and why are they important?**\n",
        "- A data structure is a systematic way of organizing, managing, and storing data so that it can be used efficiently.\n",
        "- Importance of Data Structures :\n",
        "- a) Efficient Data Management:\n",
        "Data structures help store and organize large amounts of data in a way that makes access and modification more efficient\n",
        "- b) Optimized Performance:\n",
        "Choosing the right data structure can improve the performance of a program significantly\n",
        "- c) Better Problem Solving:\n",
        "Many complex problems in computer science can be solved effectively with the help of proper data structures.\n",
        "- d) Reusability:\n",
        "Once a data structure is implemented, it can be reused across multiple applications, saving time and effort.\n",
        "- e) Memory Management :\n",
        "Efficient data structures allow optimal use of memory.\n",
        "\n",
        "---\n",
        "\n",
        "2) **Explain the difference between mutable and immutable data types with examples?**\n",
        "- Mutable data types; are those whose values can be modified after they are created. Example : List & Dictionary\n",
        "- Immutable data types; are those whose values cannot be changed after they are created. Example : String & Tuple\n",
        "\n",
        "---\n",
        "\n",
        "3) **What are the main differences between lists and tuples in Python?**\n",
        "- List: A mutable data type, which is defined with square brackets [ ].\n",
        "- Tuple: An immutable data type, which is defined with parentheses ( ).\n",
        "\n",
        "---\n",
        "\n",
        "4) **Describe how dictionaries store data?**\n",
        "- A dictionary in Python stores data in the form of key value pairs.\n",
        "Where each key is unique and acts like an index & each value is the data associated with that key.\n",
        "\n",
        "---\n",
        "\n",
        "5) **Why might you use a set instead of a list in Python?**\n",
        "- A set in Python is an unordered collection of unique elements, while a list is an ordered collection that can contain duplicates. Depending on the use case, a set can be more efficient than a list.\n",
        "\n",
        "---\n",
        "\n",
        "6) **What is a string in Python, and how is it different from a list?**\n",
        "- A set in Python is an unordered collection of unique elements, while a list is an ordered collection that can contain duplicates. Depending on the use case, a set can be more efficient than a list.\n",
        "\n",
        "---\n",
        "\n",
        "7) **How Do Tuples Ensure Data Integrity in Python?**\n",
        "\n",
        "- Tuples in Python are immutable, meaning once a tuple is created, its elements cannot be changed, added, or removed. And because of this immutability:\n",
        "- a) The stored data remains constant and secure throughout the program.\n",
        "- b) Accidental modifications are prevented, ensuring the integrity of data.\n",
        "- c) Tuples can be used as reliable keys in dictionaries (lists cannot), since their immutability guarantees they won’t change unexpectedly.\n",
        "\n",
        "---\n",
        "\n",
        "8) **What is a Hash Table, and How Does it Relate to Dictionaries in Python?**\n",
        "\n",
        "- A hash table is a data structure that stores data in key–value pairs. It uses a hash function to convert each key into a unique number (called a hash code), which determines where the value is stored in memory. This allows very fast lookups, insertions, and deletions.\n",
        "\n",
        "---\n",
        "\n",
        "9) **Can Lists Contain Different Data Types in Python?**\n",
        "\n",
        "- Yes, lists in Python can contain elements of different data types. This is because Python is a dynamically typed language, and lists are designed to hold heterogeneous data.\n",
        "\n",
        "---\n",
        "\n",
        "10) **Why Strings Are Immutable in Python?**\n",
        "\n",
        "- In Python, strings are immutable for following reasons :\n",
        "- a) Memory Efficiency: Immutability allows Python to reuse string objects (string interning).\n",
        "- b) Hashability: Strings stay constant, making them reliable as dictionary keys.\n",
        "- c) Data Integrity: Prevents accidental or unauthorized changes to string data.\n",
        "- d) Thread-Safety: Safe to share across threads since strings can’t be modified.\n",
        "\n",
        "---\n",
        "\n",
        "11) **What advantages do dictionaries offer over lists for certain tasks?**\n",
        "\n",
        "- Dictionaries in Python offer several advantages over lists:\n",
        "- a) Fast Lookup: Dictionaries use hashing, making searches by key much faster.\n",
        "- b) Key–Value Mapping: They allow accessing values through keys instead of numeric indexes, which improves readability.\n",
        "- c) No Need to Remember Indexes: With dictionaries, you can directly use descriptive keys instead of relying on positions.\n",
        "- d) Better for Structured Data: Dictionaries are more suitable for representing structured information like records, mappings, or configurations.\\\n",
        "\n",
        "---\n",
        "\n",
        "12) **Describe a scenario where using a tuple would be preferable over a list.**\n",
        "\n",
        "- A tuple is preferable when you need to store data that should not change throughout the program. Since tuples are immutable, they help ensure data integrity and can also be used as keys in dictionaries, unlike lists.\n",
        "\n",
        "- Scenario Example:\n",
        "\n",
        "- a) Since days of the week never change, a tuple is the best choice.\n",
        "- days = (\"Monday\", \"Tuesday\", \"Wednesday\", \"Thursday\", \"Friday\", \"Saturday\", \"Sunday\")\n",
        "\n",
        "---\n",
        "\n",
        "13 ) **How do sets handle duplicate values in Python?**\n",
        "\n",
        "- In Python, a set is an unordered collection of unique elements. If you try to add duplicate values to a set, Python will automatically ignore the duplicates and only keep one copy of each element.\n",
        "\n",
        "---\n",
        "\n",
        "14) **How does the “in” keyword work differently for lists and dictionaries?**\n",
        "\n",
        "- The in keyword is used to check membership, but it behaves differently for lists and dictionaries in Python :\n",
        "- For Lists:\n",
        "in checks whether a given value exists in the list.\n",
        "- For Dictionaries:\n",
        "in checks whether a given key exists in the dictionary (not the value).\n",
        "\n",
        "---\n",
        "\n",
        "15) **Can you modify the elements of a tuple? Explain why or why not.**\n",
        "\n",
        "- No, you cannot modify the elements of a tuple in Python.\n",
        "This is because tuples are immutable, meaning once they are created, their elements cannot be changed, added, or removed. If you try to assign a new value to a tuple element, Python will raise a TypeError.\n",
        "\n",
        "---\n",
        "\n",
        "16) **What is a nested dictionary, and give an example of its use case?**\n",
        "\n",
        "- A nested dictionary is a dictionary where the values themselves are dictionaries. It allows storing and organizing data in a hierarchical structure.\n",
        "- Use Case:\n",
        "Storing structured data, such as student records & employee details.\n",
        "\n",
        "---\n",
        "\n",
        "17) **Describe the time complexity of accessing elements in a dictionary.**\n",
        "\n",
        "- In Python, a dictionary is implemented using a hash table, which allows very fast access to elements by their keys.\n",
        "- Average Case: Accessing an element by key takes O(1) time (constant time) because Python uses the key’s hash value to directly find the location of the value in memory.\n",
        "- Worst Case: In rare cases (such as many hash collisions), accessing an element may take O(n) time, where n is the number of elements in the dictionary. However, Python’s hash function and table resizing make this situation highly unlikely.\n",
        "\n",
        "---\n",
        "\n",
        "18) **In what situations are lists preferred over dictionaries?**\n",
        "\n",
        "\n",
        "- Lists are preferred over dictionaries in the following situations:\n",
        "\n",
        "- a) When Order Matters:\n",
        "Lists preserve the order of elements, making them ideal when sequence is important (Ex: to-do list).\n",
        "- b) When Data is Indexed Numerically:\n",
        "Lists are better when elements are accessed by their position (index) rather than by a key.\n",
        "- c) When Storing Simple Collections:\n",
        "If you just need to store a group of items without unique identifiers (like numbers, names, or scores), lists are simpler.\n",
        "- d) When Duplicates are Needed:\n",
        "Unlike dictionaries, lists can store duplicate values\n",
        "\n",
        "---\n",
        "\n",
        "19) **Why are dictionaries considered unordered, and how does that affect data retrieval?**\n",
        "\n",
        "- In Python, dictionaries store data as key–value pairs.\n",
        "Traditionally, they were considered unordered because the arrangement of items in memory was not guaranteed to follow the order in which they were added.\n",
        "- Effect on Data Retrieval:\n",
        "- a) Data in dictionaries is retrieved using keys, not positions (indexes).\n",
        "- b) This means you cannot rely on the order of elements when processing dictionary data.\n",
        "\n",
        "---\n",
        "\n",
        "20) **Explain the difference between a list and a dictionary in terms of data retrieval**\n",
        "\n",
        "- In a list, data is retrieved using an index (integer position), which makes it useful for ordered sequences.\n",
        "- In a dictionary, data is retrieved using a key, which allows for faster, more flexible lookups when data is associated with labels instead of positions.\n",
        "\n",
        "---"
      ],
      "metadata": {
        "id": "Fwy2UkQkakeu"
      }
    },
    {
      "cell_type": "markdown",
      "source": [
        "# Practical Questions"
      ],
      "metadata": {
        "id": "31GI8m-zpvnC"
      }
    },
    {
      "cell_type": "code",
      "source": [
        "# Write a code to create a string with your name and print it.\n",
        "\n",
        "name = \"Ujjwal Parida\"\n",
        "print(name)"
      ],
      "metadata": {
        "colab": {
          "base_uri": "https://localhost:8080/"
        },
        "id": "0s5VfSsNt8w7",
        "outputId": "f7664afd-8cb4-4281-9200-3081c6d654f2"
      },
      "execution_count": 1,
      "outputs": [
        {
          "output_type": "stream",
          "name": "stdout",
          "text": [
            "Ujjwal Parida\n"
          ]
        }
      ]
    },
    {
      "cell_type": "code",
      "source": [
        "# Write a code to find the length of the string \"Hello World\".\n",
        "\n",
        "text = \"Hello World\"\n",
        "length = len(text)\n",
        "\n",
        "# Print the length\n",
        "print(\"The length of the string is:\", length)"
      ],
      "metadata": {
        "colab": {
          "base_uri": "https://localhost:8080/"
        },
        "id": "Epb2VvdEuDFi",
        "outputId": "28a93466-ec2c-40b9-fe06-a997d4732583"
      },
      "execution_count": 2,
      "outputs": [
        {
          "output_type": "stream",
          "name": "stdout",
          "text": [
            "The length of the string is: 11\n"
          ]
        }
      ]
    },
    {
      "cell_type": "code",
      "source": [
        "# Write a code to slice the first 3 characters from the string \"Python Programming\".\n",
        "\n",
        "text = \"Python Programming\"\n",
        "first_three = text[:3]\n",
        "\n",
        "# Print the result\n",
        "print(\"The first 3 characters are:\", first_three)\n"
      ],
      "metadata": {
        "colab": {
          "base_uri": "https://localhost:8080/"
        },
        "id": "vzw5idHTuIh1",
        "outputId": "f0f5b92b-7588-4f71-f526-fc71f5cf36e7"
      },
      "execution_count": 3,
      "outputs": [
        {
          "output_type": "stream",
          "name": "stdout",
          "text": [
            "The first 3 characters are: Pyt\n"
          ]
        }
      ]
    },
    {
      "cell_type": "code",
      "source": [
        "# Write a code to convert the string \"hello\" to uppercase\n",
        "\n",
        "text = \"hello\"\n",
        "\n",
        "# Convert to uppercase\n",
        "uppercase_text = text.upper()\n",
        "\n",
        "# Print the result\n",
        "print(\"Uppercase version:\", uppercase_text)"
      ],
      "metadata": {
        "colab": {
          "base_uri": "https://localhost:8080/"
        },
        "id": "QAjnkbF4uOF3",
        "outputId": "f7d8b6c8-73ed-482e-ccd8-34d4f20a9bb6"
      },
      "execution_count": 4,
      "outputs": [
        {
          "output_type": "stream",
          "name": "stdout",
          "text": [
            "Uppercase version: HELLO\n"
          ]
        }
      ]
    },
    {
      "cell_type": "code",
      "source": [
        "# Write a code to replace the word \"apple\" with \"orange\" in the string \"I like apple\"\n",
        "\n",
        "text = \"I like apple\"\n",
        "\n",
        "# Replace \"apple\" with \"orange\"\n",
        "new_text = text.replace(\"apple\", \"orange\")\n",
        "\n",
        "# Print the result\n",
        "print(new_text)"
      ],
      "metadata": {
        "colab": {
          "base_uri": "https://localhost:8080/"
        },
        "id": "TVyUDmBEult2",
        "outputId": "7cd412e9-703e-4257-ecf6-777cf77c2fed"
      },
      "execution_count": 5,
      "outputs": [
        {
          "output_type": "stream",
          "name": "stdout",
          "text": [
            "I like orange\n"
          ]
        }
      ]
    },
    {
      "cell_type": "code",
      "source": [
        "# Write a code to create a list with numbers 1 to 5 and print it\n",
        "\n",
        "numbers = [1, 2, 3, 4, 5]\n",
        "\n",
        "# Print the list\n",
        "print(numbers)"
      ],
      "metadata": {
        "colab": {
          "base_uri": "https://localhost:8080/"
        },
        "id": "4LIsGkx_unR4",
        "outputId": "2c2f4f84-8365-4432-f694-6b1596ad3a1d"
      },
      "execution_count": 6,
      "outputs": [
        {
          "output_type": "stream",
          "name": "stdout",
          "text": [
            "[1, 2, 3, 4, 5]\n"
          ]
        }
      ]
    },
    {
      "cell_type": "code",
      "source": [
        "# Write a code to append the number 10 to the list [1, 2, 3, 4]\n",
        "\n",
        "# Define the list\n",
        "numbers = [1, 2, 3, 4]\n",
        "\n",
        "# Append 10 to the list\n",
        "numbers.append(10)\n",
        "\n",
        "# Print the updated list\n",
        "print(numbers)"
      ],
      "metadata": {
        "colab": {
          "base_uri": "https://localhost:8080/"
        },
        "id": "Tv0RssDFvAnF",
        "outputId": "2ab0cda9-bd30-4f76-8c2b-d60d85b131f3"
      },
      "execution_count": 7,
      "outputs": [
        {
          "output_type": "stream",
          "name": "stdout",
          "text": [
            "[1, 2, 3, 4, 10]\n"
          ]
        }
      ]
    },
    {
      "cell_type": "code",
      "source": [
        "# Write a code to remove the number 3 from the list [1, 2, 3, 4, 5]\n",
        "\n",
        "# Define the list\n",
        "numbers = [1, 2, 3, 4, 5]\n",
        "\n",
        "# Remove the number 3\n",
        "numbers.remove(3)\n",
        "\n",
        "# Print the updated list\n",
        "print(numbers)"
      ],
      "metadata": {
        "colab": {
          "base_uri": "https://localhost:8080/"
        },
        "id": "4h5DnDFiuprQ",
        "outputId": "3a3359f9-fbae-4b63-bc36-03d866afa341"
      },
      "execution_count": 8,
      "outputs": [
        {
          "output_type": "stream",
          "name": "stdout",
          "text": [
            "[1, 2, 4, 5]\n"
          ]
        }
      ]
    },
    {
      "cell_type": "code",
      "source": [
        "# Write a code to access the second element in the list ['a', 'b', 'c', 'd']\n",
        "\n",
        "# Define the list\n",
        "letters = ['a', 'b', 'c', 'd']\n",
        "\n",
        "# Access the second element (index 1)\n",
        "second_element = letters[1]\n",
        "\n",
        "# Print the second element\n",
        "print(\"The second element is:\", second_element)"
      ],
      "metadata": {
        "colab": {
          "base_uri": "https://localhost:8080/"
        },
        "id": "PaCfjZ8FurPG",
        "outputId": "d9295e98-8afe-4dad-da06-15a28c43b8b9"
      },
      "execution_count": 9,
      "outputs": [
        {
          "output_type": "stream",
          "name": "stdout",
          "text": [
            "The second element is: b\n"
          ]
        }
      ]
    },
    {
      "cell_type": "code",
      "source": [
        "# Write a code to reverse the list [10, 20, 30, 40, 50]\n",
        "\n",
        "# Define the list\n",
        "numbers = [10, 20, 30, 40, 50]\n",
        "\n",
        "# Reverse the list\n",
        "numbers.reverse()\n",
        "\n",
        "# Print the reversed list\n",
        "print(numbers)"
      ],
      "metadata": {
        "colab": {
          "base_uri": "https://localhost:8080/"
        },
        "id": "u0RcgsO0usyU",
        "outputId": "11179e7f-100b-4971-ecb2-916ac7904c2a"
      },
      "execution_count": 10,
      "outputs": [
        {
          "output_type": "stream",
          "name": "stdout",
          "text": [
            "[50, 40, 30, 20, 10]\n"
          ]
        }
      ]
    },
    {
      "cell_type": "code",
      "source": [
        "# Write a code to create a tuple with the elements 100, 200, 300 and print it.\n",
        "\n",
        "# Create the tuple\n",
        "numbers_tuple = (100, 200, 300)\n",
        "\n",
        "# Print the tuple\n",
        "print(numbers_tuple)\n"
      ],
      "metadata": {
        "colab": {
          "base_uri": "https://localhost:8080/"
        },
        "id": "GrWTxhq_vSFc",
        "outputId": "5fcbf73e-9589-43e7-a926-ea3f4dc7f986"
      },
      "execution_count": 11,
      "outputs": [
        {
          "output_type": "stream",
          "name": "stdout",
          "text": [
            "(100, 200, 300)\n"
          ]
        }
      ]
    },
    {
      "cell_type": "code",
      "source": [
        "# Write a code to access the second-to-last element of the tuple ('red', 'green', 'blue', 'yellow').\n",
        "\n",
        "# Define the tuple\n",
        "colors = ('red', 'green', 'blue', 'yellow')\n",
        "\n",
        "# Access the second-to-last element\n",
        "second_to_last = colors[-2]\n",
        "\n",
        "# Print the result\n",
        "print(\"The second-to-last element is:\", second_to_last)\n"
      ],
      "metadata": {
        "colab": {
          "base_uri": "https://localhost:8080/"
        },
        "id": "xeGFZJiVwYUr",
        "outputId": "98b604ad-504d-4e18-c9e1-84c0c406eba1"
      },
      "execution_count": 12,
      "outputs": [
        {
          "output_type": "stream",
          "name": "stdout",
          "text": [
            "The second-to-last element is: blue\n"
          ]
        }
      ]
    },
    {
      "cell_type": "code",
      "source": [
        "# Write a code to find the minimum number in the tuple (10, 20, 5, 15).\n",
        "\n",
        "# Define the tuple\n",
        "numbers = (10, 20, 5, 15)\n",
        "\n",
        "# Find the minimum number using min()\n",
        "minimum_number = min(numbers)\n",
        "\n",
        "# Print the result\n",
        "print(\"The minimum number is:\", minimum_number)"
      ],
      "metadata": {
        "colab": {
          "base_uri": "https://localhost:8080/"
        },
        "id": "XaeDuNLUwawI",
        "outputId": "3afe43da-58a0-4d5e-8c91-6d50db671fdf"
      },
      "execution_count": 13,
      "outputs": [
        {
          "output_type": "stream",
          "name": "stdout",
          "text": [
            "The minimum number is: 5\n"
          ]
        }
      ]
    },
    {
      "cell_type": "code",
      "source": [
        "# Write a code to find the index of the element \"cat\" in the tuple ('dog', 'cat', 'rabbit').\n",
        "\n",
        "# Define the tuple\n",
        "animals = ('dog', 'cat', 'rabbit')\n",
        "\n",
        "# Find the index of \"cat\"\n",
        "index_of_cat = animals.index('cat')\n",
        "\n",
        "# Print the result\n",
        "print(\"The index of 'cat' is:\", index_of_cat)"
      ],
      "metadata": {
        "colab": {
          "base_uri": "https://localhost:8080/"
        },
        "id": "us1sFpDdwcxQ",
        "outputId": "6a59826d-15bb-4a12-b227-7f9017852d00"
      },
      "execution_count": 14,
      "outputs": [
        {
          "output_type": "stream",
          "name": "stdout",
          "text": [
            "The index of 'cat' is: 1\n"
          ]
        }
      ]
    },
    {
      "cell_type": "code",
      "source": [
        "# Write a code to create a tuple containing three different fruits and check if \"kiwi\" is in it.\n",
        "\n",
        "# Create a tuple with three fruits\n",
        "fruits = ('apple', 'banana', 'mango')\n",
        "\n",
        "# Check if \"kiwi\" is in the tuple\n",
        "if 'kiwi' in fruits:\n",
        "    print(\"Kiwi is in the tuple.\")\n",
        "else:\n",
        "    print(\"Kiwi is not in the tuple.\")\n"
      ],
      "metadata": {
        "colab": {
          "base_uri": "https://localhost:8080/"
        },
        "id": "Ugog93ZWweZH",
        "outputId": "d334209f-f9a4-4189-829b-24750d3fef44"
      },
      "execution_count": 15,
      "outputs": [
        {
          "output_type": "stream",
          "name": "stdout",
          "text": [
            "Kiwi is not in the tuple.\n"
          ]
        }
      ]
    },
    {
      "cell_type": "code",
      "source": [
        "# Write a code to create a set with the elements 'a', 'b', 'c' and print it.\n",
        "\n",
        "# Create the set\n",
        "letters_set = {'a', 'b', 'c'}\n",
        "\n",
        "# Print the set\n",
        "print(letters_set)\n"
      ],
      "metadata": {
        "colab": {
          "base_uri": "https://localhost:8080/"
        },
        "id": "t1JySP2zwgPk",
        "outputId": "91bf0204-7fb6-4246-90b0-53c880790d51"
      },
      "execution_count": 16,
      "outputs": [
        {
          "output_type": "stream",
          "name": "stdout",
          "text": [
            "{'b', 'c', 'a'}\n"
          ]
        }
      ]
    },
    {
      "cell_type": "code",
      "source": [
        "# Write a code to clear all elements from the set {1, 2, 3, 4, 5}.\n",
        "\n",
        "# Define the set\n",
        "numbers_set = {1, 2, 3, 4, 5}\n",
        "\n",
        "# Clear all elements from the set\n",
        "numbers_set.clear()\n",
        "\n",
        "# Print the cleared set\n",
        "print(numbers_set)"
      ],
      "metadata": {
        "colab": {
          "base_uri": "https://localhost:8080/"
        },
        "id": "RaTcZixywiIE",
        "outputId": "e349a235-0320-4b40-d528-bed3b022a756"
      },
      "execution_count": 17,
      "outputs": [
        {
          "output_type": "stream",
          "name": "stdout",
          "text": [
            "set()\n"
          ]
        }
      ]
    },
    {
      "cell_type": "code",
      "source": [
        "# Write a code to remove the element 4 from the set {1, 2, 3, 4}.\n",
        "\n",
        "# Define the set\n",
        "numbers_set = {1, 2, 3, 4}\n",
        "\n",
        "# Remove the element 4\n",
        "numbers_set.remove(4)\n",
        "\n",
        "# Print the updated set\n",
        "print(numbers_set)"
      ],
      "metadata": {
        "colab": {
          "base_uri": "https://localhost:8080/"
        },
        "id": "jZB6BOR5wjxE",
        "outputId": "726b644a-4844-4525-bf89-61a99105470c"
      },
      "execution_count": 18,
      "outputs": [
        {
          "output_type": "stream",
          "name": "stdout",
          "text": [
            "{1, 2, 3}\n"
          ]
        }
      ]
    },
    {
      "cell_type": "code",
      "source": [
        "# Write a code to find the union of two sets {1, 2, 3} and {3, 4, 5}.\n",
        "\n",
        "# Define the sets\n",
        "set1 = {1, 2, 3}\n",
        "set2 = {3, 4, 5}\n",
        "\n",
        "# Find the union of the two sets\n",
        "union_set = set1.union(set2)\n",
        "\n",
        "# Print the result\n",
        "print(\"Union of the sets:\", union_set)\n"
      ],
      "metadata": {
        "colab": {
          "base_uri": "https://localhost:8080/"
        },
        "id": "6rXBWoy6wlwD",
        "outputId": "547c1b40-1465-420a-8c6c-a1a8e9575e1e"
      },
      "execution_count": 19,
      "outputs": [
        {
          "output_type": "stream",
          "name": "stdout",
          "text": [
            "Union of the sets: {1, 2, 3, 4, 5}\n"
          ]
        }
      ]
    },
    {
      "cell_type": "code",
      "source": [
        "# Write a code to find the intersection of two sets {1, 2, 3} and {2, 3, 4}.\n",
        "\n",
        "# Define the sets\n",
        "set1 = {1, 2, 3}\n",
        "set2 = {2, 3, 4}\n",
        "\n",
        "# Find the intersection of the two sets\n",
        "intersection_set = set1.intersection(set2)\n",
        "\n",
        "# Print the result\n",
        "print(\"Intersection of the sets:\", intersection_set)\n"
      ],
      "metadata": {
        "colab": {
          "base_uri": "https://localhost:8080/"
        },
        "id": "q2WtDnVxwnit",
        "outputId": "7a17e5e4-ff0d-4e46-b99d-6c3d5e04d19c"
      },
      "execution_count": 20,
      "outputs": [
        {
          "output_type": "stream",
          "name": "stdout",
          "text": [
            "Intersection of the sets: {2, 3}\n"
          ]
        }
      ]
    },
    {
      "cell_type": "code",
      "source": [
        "# Write a code to create a dictionary with the keys \"name\", \"age\", and \"city\", and print it.\n",
        "\n",
        "# Create the dictionary\n",
        "person = {\n",
        "    \"name\": \"Alice\",\n",
        "    \"age\": 25,\n",
        "    \"city\": \"New York\"\n",
        "}\n",
        "\n",
        "# Print the dictionary\n",
        "print(person)\n"
      ],
      "metadata": {
        "colab": {
          "base_uri": "https://localhost:8080/"
        },
        "id": "YGtCuZ1Lwpe8",
        "outputId": "13dcbe8f-680f-408a-b89d-da66e4f7ec45"
      },
      "execution_count": 24,
      "outputs": [
        {
          "output_type": "stream",
          "name": "stdout",
          "text": [
            "{'name': 'Alice', 'age': 25, 'city': 'New York'}\n"
          ]
        }
      ]
    },
    {
      "cell_type": "code",
      "source": [
        "# Write a code to add a new key-value pair \"country\": \"USA\" to the dictionary {'name': 'John', 'age': 25}.\n",
        "\n",
        "# Define the dictionary\n",
        "person = {'name': 'John', 'age': 25}\n",
        "\n",
        "# Add the new key-value pair\n",
        "person['country'] = 'USA'\n",
        "\n",
        "# Print the updated dictionary\n",
        "print(person)\n"
      ],
      "metadata": {
        "colab": {
          "base_uri": "https://localhost:8080/"
        },
        "id": "HbGRjUhnwrDf",
        "outputId": "ab01a09c-4216-4adf-80a4-8e38784b9436"
      },
      "execution_count": 22,
      "outputs": [
        {
          "output_type": "stream",
          "name": "stdout",
          "text": [
            "{'name': 'John', 'age': 25, 'country': 'USA'}\n"
          ]
        }
      ]
    },
    {
      "cell_type": "code",
      "source": [
        "# Write a code to access the value associated with the key \"name\" in the dictionary {'name': 'Alice', 'age': 30}.\n",
        "\n",
        "# Define the dictionary\n",
        "person = {'name': 'Alice', 'age': 30}\n",
        "\n",
        "# Access the value associated with the key \"name\"\n",
        "name_value = person['name']\n",
        "\n",
        "# Print the value\n",
        "print(\"The value of 'name' is:\", name_value)\n"
      ],
      "metadata": {
        "colab": {
          "base_uri": "https://localhost:8080/"
        },
        "id": "2MkPHnGFwsnN",
        "outputId": "a591092e-0211-4f9f-f92a-a0f5e9bbcd51"
      },
      "execution_count": 25,
      "outputs": [
        {
          "output_type": "stream",
          "name": "stdout",
          "text": [
            "The value of 'name' is: Alice\n"
          ]
        }
      ]
    },
    {
      "cell_type": "code",
      "source": [
        "# Write a code to remove the key \"age\" from the dictionary {'name': 'Bob', 'age': 22, 'city': 'New York'].\n",
        "\n",
        "# Define the dictionary\n",
        "person = {'name': 'Bob', 'age': 22, 'city': 'New York'}\n",
        "\n",
        "# Remove the key \"age\"\n",
        "person.pop('age')\n",
        "\n",
        "# Print the updated dictionary\n",
        "print(person)\n"
      ],
      "metadata": {
        "colab": {
          "base_uri": "https://localhost:8080/"
        },
        "id": "KKAYY950wuDy",
        "outputId": "7a0f157d-5ac4-473a-b0fa-26be50c367ac"
      },
      "execution_count": 26,
      "outputs": [
        {
          "output_type": "stream",
          "name": "stdout",
          "text": [
            "{'name': 'Bob', 'city': 'New York'}\n"
          ]
        }
      ]
    },
    {
      "cell_type": "code",
      "source": [
        "# Write a code to check if the key \"city\" exists in the dictionary {'name': 'Alice', 'city': 'Paris'}.\n",
        "\n",
        "# Define the dictionary\n",
        "person = {'name': 'Alice', 'city': 'Paris'}\n",
        "\n",
        "# Check if the key \"city\" exists\n",
        "if 'city' in person:\n",
        "    print(\"The key 'city' exists in the dictionary.\")\n",
        "else:\n",
        "    print(\"The key 'city' does not exist in the dictionary.\")\n"
      ],
      "metadata": {
        "colab": {
          "base_uri": "https://localhost:8080/"
        },
        "id": "3r1wvOaXwvuA",
        "outputId": "fa89c7e5-7cfb-4074-d021-17309f024e0a"
      },
      "execution_count": 27,
      "outputs": [
        {
          "output_type": "stream",
          "name": "stdout",
          "text": [
            "The key 'city' exists in the dictionary.\n"
          ]
        }
      ]
    },
    {
      "cell_type": "code",
      "source": [
        "# Write a code to create a list, a tuple, and a dictionary, and print them all.\n",
        "\n",
        "# Create a list\n",
        "my_list = [1, 2, 3]\n",
        "\n",
        "# Create a tuple\n",
        "my_tuple = ('a', 'b', 'c')\n",
        "\n",
        "# Create a dictionary\n",
        "my_dict = {'name': 'Alice', 'age': 25}\n",
        "\n",
        "# Print all of them\n",
        "print(\"List:\", my_list)\n",
        "print(\"Tuple:\", my_tuple)\n",
        "print(\"Dictionary:\", my_dict)\n"
      ],
      "metadata": {
        "colab": {
          "base_uri": "https://localhost:8080/"
        },
        "id": "jkyHEuuGwx1C",
        "outputId": "55279702-2962-4044-e8b6-cf8462fb979e"
      },
      "execution_count": 28,
      "outputs": [
        {
          "output_type": "stream",
          "name": "stdout",
          "text": [
            "List: [1, 2, 3]\n",
            "Tuple: ('a', 'b', 'c')\n",
            "Dictionary: {'name': 'Alice', 'age': 25}\n"
          ]
        }
      ]
    },
    {
      "cell_type": "code",
      "source": [
        "# Write a code to create a list of 5 random numbers between 1 and 100, sort it in ascending order, and print the result.(replaced)\n",
        "\n",
        "import random\n",
        "\n",
        "# Create a list of 5 random numbers between 1 and 100\n",
        "random_numbers = [random.randint(1, 100) for _ in range(5)]\n",
        "\n",
        "# Sort the list in ascending order\n",
        "random_numbers.sort()\n",
        "\n",
        "# Print the sorted list\n",
        "print(\"Sorted random numbers:\", random_numbers)\n"
      ],
      "metadata": {
        "colab": {
          "base_uri": "https://localhost:8080/"
        },
        "id": "j30s6ymjwzjj",
        "outputId": "fd9764e5-2cd0-4269-efa5-907ce89ef597"
      },
      "execution_count": 29,
      "outputs": [
        {
          "output_type": "stream",
          "name": "stdout",
          "text": [
            "Sorted random numbers: [8, 27, 30, 68, 94]\n"
          ]
        }
      ]
    },
    {
      "cell_type": "code",
      "source": [
        "# Write a code to create a list with strings and print the element at the third index.\n",
        "\n",
        "# Create a list of strings\n",
        "fruits = ['apple', 'banana', 'cherry', 'date', 'elderberry']\n",
        "\n",
        "# Access the element at the third index (index 3)\n",
        "element = fruits[3]\n",
        "\n",
        "# Print the element\n",
        "print(\"The element at the third index is:\", element)\n"
      ],
      "metadata": {
        "colab": {
          "base_uri": "https://localhost:8080/"
        },
        "id": "woD2dPJ7w2nF",
        "outputId": "f0700147-0dbe-4354-d2b2-829333fa9036"
      },
      "execution_count": 30,
      "outputs": [
        {
          "output_type": "stream",
          "name": "stdout",
          "text": [
            "The element at the third index is: date\n"
          ]
        }
      ]
    },
    {
      "cell_type": "code",
      "source": [
        "# Write a code to combine two dictionaries into one and print the result.\n",
        "\n",
        "# Define two dictionaries\n",
        "dict1 = {'name': 'Alice', 'age': 25}\n",
        "dict2 = {'city': 'Paris', 'country': 'France'}\n",
        "\n",
        "# Combine the dictionaries\n",
        "combined_dict = {**dict1, **dict2}\n",
        "\n",
        "# Print the combined dictionary\n",
        "print(\"Combined dictionary:\", combined_dict)\n"
      ],
      "metadata": {
        "colab": {
          "base_uri": "https://localhost:8080/"
        },
        "id": "tM752x-iw4Oh",
        "outputId": "a95d79a3-8757-43a5-fcbb-a37f2e201696"
      },
      "execution_count": 31,
      "outputs": [
        {
          "output_type": "stream",
          "name": "stdout",
          "text": [
            "Combined dictionary: {'name': 'Alice', 'age': 25, 'city': 'Paris', 'country': 'France'}\n"
          ]
        }
      ]
    },
    {
      "cell_type": "code",
      "source": [
        "# Write a code to convert a list of strings into a set.\n",
        "\n",
        "# Define a list of strings\n",
        "fruits_list = ['apple', 'banana', 'cherry', 'apple', 'banana']\n",
        "\n",
        "# Convert the list to a set to remove duplicates\n",
        "fruits_set = set(fruits_list)\n",
        "\n",
        "# Print the set\n",
        "print(\"Set of fruits:\", fruits_set)\n"
      ],
      "metadata": {
        "colab": {
          "base_uri": "https://localhost:8080/"
        },
        "id": "ff4ixQk_w6CF",
        "outputId": "078cc79f-db20-4f6c-b7b2-a831c0e65ddb"
      },
      "execution_count": 34,
      "outputs": [
        {
          "output_type": "stream",
          "name": "stdout",
          "text": [
            "Set of fruits: {'banana', 'cherry', 'apple'}\n"
          ]
        }
      ]
    }
  ]
}